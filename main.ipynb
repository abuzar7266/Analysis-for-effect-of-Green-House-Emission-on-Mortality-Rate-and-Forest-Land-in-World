{
 "cells": [
  {
   "cell_type": "code",
   "execution_count": 13,
   "id": "5ca614c8",
   "metadata": {},
   "outputs": [],
   "source": [
    "import pandas as pd\n",
    "import matplotlib.pyplot as plt"
   ]
  },
  {
   "cell_type": "code",
   "execution_count": 14,
   "id": "75bd2e8b",
   "metadata": {},
   "outputs": [],
   "source": [
    "df1 = pd.read_csv('ForestDataset/API_AG.LND.FRST.K2_DS2_en_csv_v2_3932352.csv')\n",
    "df2 = pd.read_csv('GreenHouseDataset/API_EN.ATM.GHGT.KT.CE_DS2_en_csv_v2_3931024.csv')\n",
    "df3 = pd.read_csv('MortalityRateDataset/API_SH.DYN.MORT_DS2_en_csv_v2_3929707.csv')"
   ]
  },
  {
   "cell_type": "code",
   "execution_count": 15,
   "id": "28ee849e",
   "metadata": {},
   "outputs": [],
   "source": [
    "#fill NAN with 0\n",
    "df1 = df1.drop(df1.columns[0:34],axis=1).fillna(0)\n",
    "df2 = df2.drop(df2.columns[0:34],axis=1).fillna(0)\n",
    "df3 = df3.drop(df3.columns[0:34],axis=1).fillna(0)"
   ]
  },
  {
   "cell_type": "code",
   "execution_count": 16,
   "id": "5c1b906f",
   "metadata": {},
   "outputs": [],
   "source": [
    "#Taking Mean Values For Each Year\n",
    "df1x = df1.append(df1.mean(axis = 0),ignore_index=True).iloc[266:267].values.tolist()\n",
    "df2x = df2.append(df2.mean(axis = 0),ignore_index=True).iloc[266:267].values.tolist()\n",
    "df3x = df3.append(df3.mean(axis = 0),ignore_index=True).iloc[266:267].values.tolist()"
   ]
  },
  {
   "cell_type": "code",
   "execution_count": 17,
   "id": "18b67a77",
   "metadata": {},
   "outputs": [],
   "source": [
    "df = pd.DataFrame(df1.columns,columns=['Year'])"
   ]
  },
  {
   "cell_type": "code",
   "execution_count": 18,
   "id": "1790286b",
   "metadata": {},
   "outputs": [],
   "source": [
    "df['Forest'] = df1x[0]\n",
    "df['Emission'] = df2x[0]\n",
    "df['Mortality'] = df3x[0]"
   ]
  },
  {
   "cell_type": "code",
   "execution_count": 19,
   "id": "edf3ed26",
   "metadata": {},
   "outputs": [
    {
     "data": {
      "text/html": [
       "<div>\n",
       "<style scoped>\n",
       "    .dataframe tbody tr th:only-of-type {\n",
       "        vertical-align: middle;\n",
       "    }\n",
       "\n",
       "    .dataframe tbody tr th {\n",
       "        vertical-align: top;\n",
       "    }\n",
       "\n",
       "    .dataframe thead th {\n",
       "        text-align: right;\n",
       "    }\n",
       "</style>\n",
       "<table border=\"1\" class=\"dataframe\">\n",
       "  <thead>\n",
       "    <tr style=\"text-align: right;\">\n",
       "      <th></th>\n",
       "      <th>Year</th>\n",
       "      <th>Forest</th>\n",
       "      <th>Emission</th>\n",
       "      <th>Mortality</th>\n",
       "    </tr>\n",
       "  </thead>\n",
       "  <tbody>\n",
       "    <tr>\n",
       "      <th>0</th>\n",
       "      <td>1990</td>\n",
       "      <td>1.665303e+06</td>\n",
       "      <td>1.022229e+06</td>\n",
       "      <td>68.860151</td>\n",
       "    </tr>\n",
       "    <tr>\n",
       "      <th>1</th>\n",
       "      <td>1991</td>\n",
       "      <td>1.663403e+06</td>\n",
       "      <td>1.027838e+06</td>\n",
       "      <td>67.459701</td>\n",
       "    </tr>\n",
       "    <tr>\n",
       "      <th>2</th>\n",
       "      <td>1992</td>\n",
       "      <td>1.659567e+06</td>\n",
       "      <td>1.021523e+06</td>\n",
       "      <td>66.220097</td>\n",
       "    </tr>\n",
       "    <tr>\n",
       "      <th>3</th>\n",
       "      <td>1993</td>\n",
       "      <td>1.655001e+06</td>\n",
       "      <td>1.023837e+06</td>\n",
       "      <td>65.049634</td>\n",
       "    </tr>\n",
       "    <tr>\n",
       "      <th>4</th>\n",
       "      <td>1994</td>\n",
       "      <td>1.651293e+06</td>\n",
       "      <td>1.028258e+06</td>\n",
       "      <td>64.208937</td>\n",
       "    </tr>\n",
       "    <tr>\n",
       "      <th>5</th>\n",
       "      <td>1995</td>\n",
       "      <td>1.647586e+06</td>\n",
       "      <td>1.053585e+06</td>\n",
       "      <td>62.220416</td>\n",
       "    </tr>\n",
       "    <tr>\n",
       "      <th>6</th>\n",
       "      <td>1996</td>\n",
       "      <td>1.643878e+06</td>\n",
       "      <td>1.069919e+06</td>\n",
       "      <td>60.744831</td>\n",
       "    </tr>\n",
       "    <tr>\n",
       "      <th>7</th>\n",
       "      <td>1997</td>\n",
       "      <td>1.640170e+06</td>\n",
       "      <td>1.078668e+06</td>\n",
       "      <td>59.143087</td>\n",
       "    </tr>\n",
       "    <tr>\n",
       "      <th>8</th>\n",
       "      <td>1998</td>\n",
       "      <td>1.636462e+06</td>\n",
       "      <td>1.086120e+06</td>\n",
       "      <td>57.549550</td>\n",
       "    </tr>\n",
       "    <tr>\n",
       "      <th>9</th>\n",
       "      <td>1999</td>\n",
       "      <td>1.632755e+06</td>\n",
       "      <td>1.090663e+06</td>\n",
       "      <td>55.677147</td>\n",
       "    </tr>\n",
       "    <tr>\n",
       "      <th>10</th>\n",
       "      <td>2000</td>\n",
       "      <td>1.644902e+06</td>\n",
       "      <td>1.116929e+06</td>\n",
       "      <td>53.638680</td>\n",
       "    </tr>\n",
       "    <tr>\n",
       "      <th>11</th>\n",
       "      <td>2001</td>\n",
       "      <td>1.626383e+06</td>\n",
       "      <td>1.135732e+06</td>\n",
       "      <td>51.605465</td>\n",
       "    </tr>\n",
       "    <tr>\n",
       "      <th>12</th>\n",
       "      <td>2002</td>\n",
       "      <td>1.623742e+06</td>\n",
       "      <td>1.157945e+06</td>\n",
       "      <td>49.566053</td>\n",
       "    </tr>\n",
       "    <tr>\n",
       "      <th>13</th>\n",
       "      <td>2003</td>\n",
       "      <td>1.621100e+06</td>\n",
       "      <td>1.206021e+06</td>\n",
       "      <td>47.596378</td>\n",
       "    </tr>\n",
       "    <tr>\n",
       "      <th>14</th>\n",
       "      <td>2004</td>\n",
       "      <td>1.618459e+06</td>\n",
       "      <td>1.259634e+06</td>\n",
       "      <td>45.807672</td>\n",
       "    </tr>\n",
       "    <tr>\n",
       "      <th>15</th>\n",
       "      <td>2005</td>\n",
       "      <td>1.615818e+06</td>\n",
       "      <td>1.305877e+06</td>\n",
       "      <td>43.861394</td>\n",
       "    </tr>\n",
       "    <tr>\n",
       "      <th>16</th>\n",
       "      <td>2006</td>\n",
       "      <td>1.613326e+06</td>\n",
       "      <td>1.352239e+06</td>\n",
       "      <td>42.079152</td>\n",
       "    </tr>\n",
       "    <tr>\n",
       "      <th>17</th>\n",
       "      <td>2007</td>\n",
       "      <td>1.610747e+06</td>\n",
       "      <td>1.403134e+06</td>\n",
       "      <td>40.389838</td>\n",
       "    </tr>\n",
       "    <tr>\n",
       "      <th>18</th>\n",
       "      <td>2008</td>\n",
       "      <td>1.608168e+06</td>\n",
       "      <td>1.425324e+06</td>\n",
       "      <td>38.928576</td>\n",
       "    </tr>\n",
       "    <tr>\n",
       "      <th>19</th>\n",
       "      <td>2009</td>\n",
       "      <td>1.605589e+06</td>\n",
       "      <td>1.425268e+06</td>\n",
       "      <td>37.253789</td>\n",
       "    </tr>\n",
       "    <tr>\n",
       "      <th>20</th>\n",
       "      <td>2010</td>\n",
       "      <td>1.617832e+06</td>\n",
       "      <td>1.499017e+06</td>\n",
       "      <td>36.228203</td>\n",
       "    </tr>\n",
       "    <tr>\n",
       "      <th>21</th>\n",
       "      <td>2011</td>\n",
       "      <td>1.615206e+06</td>\n",
       "      <td>1.551488e+06</td>\n",
       "      <td>34.343603</td>\n",
       "    </tr>\n",
       "    <tr>\n",
       "      <th>22</th>\n",
       "      <td>2012</td>\n",
       "      <td>1.612581e+06</td>\n",
       "      <td>1.577209e+06</td>\n",
       "      <td>33.151532</td>\n",
       "    </tr>\n",
       "    <tr>\n",
       "      <th>23</th>\n",
       "      <td>2013</td>\n",
       "      <td>1.609956e+06</td>\n",
       "      <td>1.603718e+06</td>\n",
       "      <td>32.027247</td>\n",
       "    </tr>\n",
       "    <tr>\n",
       "      <th>24</th>\n",
       "      <td>2014</td>\n",
       "      <td>1.607330e+06</td>\n",
       "      <td>1.613898e+06</td>\n",
       "      <td>31.021706</td>\n",
       "    </tr>\n",
       "    <tr>\n",
       "      <th>25</th>\n",
       "      <td>2015</td>\n",
       "      <td>1.604705e+06</td>\n",
       "      <td>1.615314e+06</td>\n",
       "      <td>30.041343</td>\n",
       "    </tr>\n",
       "    <tr>\n",
       "      <th>26</th>\n",
       "      <td>2016</td>\n",
       "      <td>1.602541e+06</td>\n",
       "      <td>1.624083e+06</td>\n",
       "      <td>29.051924</td>\n",
       "    </tr>\n",
       "    <tr>\n",
       "      <th>27</th>\n",
       "      <td>2017</td>\n",
       "      <td>1.449182e+06</td>\n",
       "      <td>1.648623e+06</td>\n",
       "      <td>28.099143</td>\n",
       "    </tr>\n",
       "    <tr>\n",
       "      <th>28</th>\n",
       "      <td>2018</td>\n",
       "      <td>1.446742e+06</td>\n",
       "      <td>1.678819e+06</td>\n",
       "      <td>27.244018</td>\n",
       "    </tr>\n",
       "    <tr>\n",
       "      <th>29</th>\n",
       "      <td>2019</td>\n",
       "      <td>1.444192e+06</td>\n",
       "      <td>0.000000e+00</td>\n",
       "      <td>26.472438</td>\n",
       "    </tr>\n",
       "    <tr>\n",
       "      <th>30</th>\n",
       "      <td>2020</td>\n",
       "      <td>1.441707e+06</td>\n",
       "      <td>0.000000e+00</td>\n",
       "      <td>25.615737</td>\n",
       "    </tr>\n",
       "  </tbody>\n",
       "</table>\n",
       "</div>"
      ],
      "text/plain": [
       "    Year        Forest      Emission  Mortality\n",
       "0   1990  1.665303e+06  1.022229e+06  68.860151\n",
       "1   1991  1.663403e+06  1.027838e+06  67.459701\n",
       "2   1992  1.659567e+06  1.021523e+06  66.220097\n",
       "3   1993  1.655001e+06  1.023837e+06  65.049634\n",
       "4   1994  1.651293e+06  1.028258e+06  64.208937\n",
       "5   1995  1.647586e+06  1.053585e+06  62.220416\n",
       "6   1996  1.643878e+06  1.069919e+06  60.744831\n",
       "7   1997  1.640170e+06  1.078668e+06  59.143087\n",
       "8   1998  1.636462e+06  1.086120e+06  57.549550\n",
       "9   1999  1.632755e+06  1.090663e+06  55.677147\n",
       "10  2000  1.644902e+06  1.116929e+06  53.638680\n",
       "11  2001  1.626383e+06  1.135732e+06  51.605465\n",
       "12  2002  1.623742e+06  1.157945e+06  49.566053\n",
       "13  2003  1.621100e+06  1.206021e+06  47.596378\n",
       "14  2004  1.618459e+06  1.259634e+06  45.807672\n",
       "15  2005  1.615818e+06  1.305877e+06  43.861394\n",
       "16  2006  1.613326e+06  1.352239e+06  42.079152\n",
       "17  2007  1.610747e+06  1.403134e+06  40.389838\n",
       "18  2008  1.608168e+06  1.425324e+06  38.928576\n",
       "19  2009  1.605589e+06  1.425268e+06  37.253789\n",
       "20  2010  1.617832e+06  1.499017e+06  36.228203\n",
       "21  2011  1.615206e+06  1.551488e+06  34.343603\n",
       "22  2012  1.612581e+06  1.577209e+06  33.151532\n",
       "23  2013  1.609956e+06  1.603718e+06  32.027247\n",
       "24  2014  1.607330e+06  1.613898e+06  31.021706\n",
       "25  2015  1.604705e+06  1.615314e+06  30.041343\n",
       "26  2016  1.602541e+06  1.624083e+06  29.051924\n",
       "27  2017  1.449182e+06  1.648623e+06  28.099143\n",
       "28  2018  1.446742e+06  1.678819e+06  27.244018\n",
       "29  2019  1.444192e+06  0.000000e+00  26.472438\n",
       "30  2020  1.441707e+06  0.000000e+00  25.615737"
      ]
     },
     "execution_count": 19,
     "metadata": {},
     "output_type": "execute_result"
    }
   ],
   "source": [
    "df"
   ]
  },
  {
   "cell_type": "markdown",
   "id": "20038bd7",
   "metadata": {},
   "source": [
    "# Average Yearly Forest Land in World\n",
    "Plot Shows the Variation of Number of Forest Land in World for every Year,Which below describes that Number of land of forest decreases every year"
   ]
  },
  {
   "cell_type": "code",
   "execution_count": 20,
   "id": "1e643556",
   "metadata": {},
   "outputs": [
    {
     "data": {
      "text/plain": [
       "Text(0, 0.5, 'Average Forest Land in World')"
      ]
     },
     "execution_count": 20,
     "metadata": {},
     "output_type": "execute_result"
    },
    {
     "data": {
      "image/png": "[encoded data removed]",
      "text/plain": [
       "<Figure size 432x288 with 1 Axes>"
      ]
     },
     "metadata": {
      "needs_background": "light"
     },
     "output_type": "display_data"
    }
   ],
   "source": [
    "plt.plot(df['Year'].tail(12).values.tolist(),df['Forest'].tail(12).values.tolist())\n",
    "plt.xlabel('Year')\n",
    "plt.ylabel('Average Forest Land in World')"
   ]
  },
  {
   "cell_type": "markdown",
   "id": "e0eea843",
   "metadata": {},
   "source": [
    "# Average Green House Emission of Each Year\n",
    "Plot illustrates that on 1991 Green House Emission increased very much but it started to decrease on next year\n",
    "and green house emission is increasing from 1995"
   ]
  },
  {
   "cell_type": "code",
   "execution_count": 21,
   "id": "2fe14b8f",
   "metadata": {},
   "outputs": [
    {
     "data": {
      "text/plain": [
       "Text(0, 0.5, 'Average Green House Gas Emission in World')"
      ]
     },
     "execution_count": 21,
     "metadata": {},
     "output_type": "execute_result"
    },
    {
     "data": {
      "image/png": "[encoded data removed]",
      "text/plain": [
       "<Figure size 432x288 with 1 Axes>"
      ]
     },
     "metadata": {
      "needs_background": "light"
     },
     "output_type": "display_data"
    }
   ],
   "source": [
    "plt.plot(df['Year'].tail(12).values.tolist(),df['Emission'].tail(12).values.tolist())\n",
    "plt.xlabel('Year')\n",
    "plt.ylabel('Average Green House Gas Emission in World')"
   ]
  },
  {
   "cell_type": "markdown",
   "id": "cf84540d",
   "metadata": {},
   "source": [
    "# Average Mortality Rate Each Year Plot"
   ]
  },
  {
   "cell_type": "code",
   "execution_count": 22,
   "id": "e4ebea58",
   "metadata": {},
   "outputs": [
    {
     "data": {
      "text/plain": [
       "Text(0, 0.5, 'Average Mortality Rate')"
      ]
     },
     "execution_count": 22,
     "metadata": {},
     "output_type": "execute_result"
    },
    {
     "data": {
      "image/png": "[encoded data removed]",
      "text/plain": [
       "<Figure size 432x288 with 1 Axes>"
      ]
     },
     "metadata": {
      "needs_background": "light"
     },
     "output_type": "display_data"
    }
   ],
   "source": [
    "plt.plot(df['Year'].tail(12).values.tolist(),df['Mortality'].tail(12).values.tolist())\n",
    "plt.xlabel('Year')\n",
    "plt.ylabel('Average Mortality Rate')"
   ]
  },
  {
   "cell_type": "markdown",
   "id": "f96beb8e",
   "metadata": {},
   "source": [
    "# Variation in Mortality Rate by Green House Emission\n",
    "Plot shows the variation in mortality rate with respect to Green house emission on average every year"
   ]
  },
  {
   "cell_type": "code",
   "execution_count": 23,
   "id": "5cdd023b",
   "metadata": {},
   "outputs": [
    {
     "data": {
      "text/plain": [
       "Text(0, 0.5, 'Mortality Rate')"
      ]
     },
     "execution_count": 23,
     "metadata": {},
     "output_type": "execute_result"
    },
    {
     "data": {
      "image/png": "[encoded data removed]",
      "text/plain": [
       "<Figure size 432x288 with 1 Axes>"
      ]
     },
     "metadata": {
      "needs_background": "light"
     },
     "output_type": "display_data"
    }
   ],
   "source": [
    "plt.plot(df['Emission'].tail(12).values.tolist(),df['Mortality'].tail(12).values.tolist())\n",
    "plt.xlabel('Green House Gase Emission Rate')\n",
    "plt.ylabel('Mortality Rate')"
   ]
  },
  {
   "cell_type": "markdown",
   "id": "359761e1",
   "metadata": {},
   "source": [
    "# Variation in Green House Emission and Forest Land in World"
   ]
  },
  {
   "cell_type": "code",
   "execution_count": 24,
   "id": "453708c0",
   "metadata": {},
   "outputs": [
    {
     "data": {
      "text/plain": [
       "Text(0, 0.5, 'Average Forest Land in World')"
      ]
     },
     "execution_count": 24,
     "metadata": {},
     "output_type": "execute_result"
    },
    {
     "data": {
      "image/png": "[encoded data removed]",
      "text/plain": [
       "<Figure size 432x288 with 1 Axes>"
      ]
     },
     "metadata": {
      "needs_background": "light"
     },
     "output_type": "display_data"
    }
   ],
   "source": [
    "plt.plot(df['Emission'].tail(12).values.tolist(),df['Forest'].tail(12).values.tolist())\n",
    "plt.xlabel('Average Green House Gase Emission Rate')\n",
    "plt.ylabel('Average Forest Land in World')"
   ]
  },
  {
   "cell_type": "code",
   "execution_count": null,
   "id": "c15e97bf",
   "metadata": {},
   "outputs": [],
   "source": []
  },
  {
   "cell_type": "code",
   "execution_count": null,
   "id": "97e90f49",
   "metadata": {},
   "outputs": [],
   "source": []
  },
  {
   "cell_type": "code",
   "execution_count": null,
   "id": "0998d9a7",
   "metadata": {},
   "outputs": [],
   "source": []
  },
  {
   "cell_type": "code",
   "execution_count": null,
   "id": "7779d2b8",
   "metadata": {},
   "outputs": [],
   "source": []
  }
 ],
 "metadata": {
  "kernelspec": {
   "display_name": "Python 3 (ipykernel)",
   "language": "python",
   "name": "python3"
  },
  "language_info": {
   "codemirror_mode": {
    "name": "ipython",
    "version": 3
   },
   "file_extension": ".py",
   "mimetype": "text/x-python",
   "name": "python",
   "nbconvert_exporter": "python",
   "pygments_lexer": "ipython3",
   "version": "3.9.7"
  }
 },
 "nbformat": 4,
 "nbformat_minor": 5
}
