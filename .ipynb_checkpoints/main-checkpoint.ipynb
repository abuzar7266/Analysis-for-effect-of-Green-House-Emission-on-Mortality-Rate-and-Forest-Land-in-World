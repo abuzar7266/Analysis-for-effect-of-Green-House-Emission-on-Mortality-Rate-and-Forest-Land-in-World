{
 "cells": [
  {
   "cell_type": "code",
   "execution_count": 447,
   "id": "169d6139",
   "metadata": {},
   "outputs": [],
   "source": [
    "import pandas as pd\n",
    "import matplotlib.pyplot as plt"
   ]
  },
  {
   "cell_type": "code",
   "execution_count": 578,
   "id": "5f19c323",
   "metadata": {},
   "outputs": [],
   "source": [
    "df1 = pd.read_csv('ForestDataset/API_AG.LND.FRST.K2_DS2_en_csv_v2_3932352.csv',header=False)\n",
    "df2 = pd.read_csv('GreenHouseDataset/API_EN.ATM.GHGT.KT.CE_DS2_en_csv_v2_3931024.csv',header=False)\n",
    "df3 = pd.read_csv('MortalityRateDataset/API_SH.DYN.MORT_DS2_en_csv_v2_3929707.csv',header=False)"
   ]
  },
  {
   "cell_type": "code",
   "execution_count": 579,
   "id": "ef8448df",
   "metadata": {},
   "outputs": [],
   "source": [
    "df1 = df1.drop(df1.columns[0:34],axis=1).dropna()\n",
    "df2 = df2.drop(df2.columns[0:34],axis=1).dropna()\n",
    "df3 = df3.drop(df3.columns[0:34],axis=1).dropna()"
   ]
  },
  {
   "cell_type": "code",
   "execution_count": 582,
   "id": "bf0cf66b",
   "metadata": {},
   "outputs": [
    {
     "data": {
      "text/html": [
       "<div>\n",
       "<style scoped>\n",
       "    .dataframe tbody tr th:only-of-type {\n",
       "        vertical-align: middle;\n",
       "    }\n",
       "\n",
       "    .dataframe tbody tr th {\n",
       "        vertical-align: top;\n",
       "    }\n",
       "\n",
       "    .dataframe thead th {\n",
       "        text-align: right;\n",
       "    }\n",
       "</style>\n",
       "<table border=\"1\" class=\"dataframe\">\n",
       "  <thead>\n",
       "    <tr style=\"text-align: right;\">\n",
       "      <th></th>\n",
       "      <th>1991</th>\n",
       "    </tr>\n",
       "  </thead>\n",
       "  <tbody>\n",
       "    <tr>\n",
       "      <th>0</th>\n",
       "      <td>4.200</td>\n",
       "    </tr>\n",
       "    <tr>\n",
       "      <th>1</th>\n",
       "      <td>4968316.114</td>\n",
       "    </tr>\n",
       "  </tbody>\n",
       "</table>\n",
       "</div>"
      ],
      "text/plain": [
       "          1991\n",
       "0        4.200\n",
       "1  4968316.114"
      ]
     },
     "execution_count": 582,
     "metadata": {},
     "output_type": "execute_result"
    }
   ],
   "source": [
    "df1 = df1.iloc[:2,1:]\n",
    "df1"
   ]
  },
  {
   "cell_type": "code",
   "execution_count": 561,
   "id": "d41af7cb",
   "metadata": {},
   "outputs": [],
   "source": [
    "df = {'Year':df1.columns[4:],'Land':df1}"
   ]
  },
  {
   "cell_type": "code",
   "execution_count": 536,
   "id": "470838be",
   "metadata": {},
   "outputs": [
    {
     "data": {
      "text/plain": [
       "1990    4.016878e+08\n",
       "1991    4.012551e+08\n",
       "1992    4.003075e+08\n",
       "1993    3.991656e+08\n",
       "1994    3.982520e+08\n",
       "1995    3.973384e+08\n",
       "1996    3.964248e+08\n",
       "1997    3.955112e+08\n",
       "1998    3.945976e+08\n",
       "1999    3.936840e+08\n",
       "2000    3.966981e+08\n",
       "2001    3.921075e+08\n",
       "2002    3.914507e+08\n",
       "2003    3.907938e+08\n",
       "2004    3.901370e+08\n",
       "2005    3.894802e+08\n",
       "2006    3.888514e+08\n",
       "2007    3.881995e+08\n",
       "2008    3.875476e+08\n",
       "2009    3.868957e+08\n",
       "2010    3.899141e+08\n",
       "2011    3.892505e+08\n",
       "2012    3.885870e+08\n",
       "2013    3.879235e+08\n",
       "2014    3.872600e+08\n",
       "2015    3.865966e+08\n",
       "2016    3.860556e+08\n",
       "2017    3.852221e+08\n",
       "2018    3.845748e+08\n",
       "2019    3.838983e+08\n",
       "2020    3.832388e+08\n",
       "Name: 0, dtype: float64"
      ]
     },
     "execution_count": 536,
     "metadata": {},
     "output_type": "execute_result"
    }
   ],
   "source": []
  },
  {
   "cell_type": "code",
   "execution_count": null,
   "id": "e965d7e0",
   "metadata": {},
   "outputs": [],
   "source": []
  }
 ],
 "metadata": {
  "kernelspec": {
   "display_name": "Python 3 (ipykernel)",
   "language": "python",
   "name": "python3"
  },
  "language_info": {
   "codemirror_mode": {
    "name": "ipython",
    "version": 3
   },
   "file_extension": ".py",
   "mimetype": "text/x-python",
   "name": "python",
   "nbconvert_exporter": "python",
   "pygments_lexer": "ipython3",
   "version": "3.9.7"
  }
 },
 "nbformat": 4,
 "nbformat_minor": 5
}
